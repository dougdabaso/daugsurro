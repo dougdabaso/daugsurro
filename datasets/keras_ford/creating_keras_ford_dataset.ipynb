{
 "cells": [
  {
   "cell_type": "code",
   "execution_count": 1,
   "metadata": {
    "id": "rP1xgtogSXEK"
   },
   "outputs": [],
   "source": [
    "# Importing necessary python packages\n",
    "\n",
    "import pandas as pd\n",
    "import numpy as np\n",
    "import random\n",
    "import pickle\n",
    "import os\n",
    "\n",
    "# Set the random seed\n",
    "\n",
    "# Set the seed value for experiment reproducibility.\n",
    "seed_value = 42\n",
    "np.random.seed(seed_value)\n",
    "random.seed(seed_value) "
   ]
  },
  {
   "cell_type": "code",
   "execution_count": 2,
   "metadata": {
    "id": "z8ixEf3BSrFD"
   },
   "outputs": [],
   "source": [
    "# Setting path and other input variable\n",
    "\n",
    "VAL_RATIO = 0.2 # according to https://keras.io/examples/timeseries/timeseries_classification_from_scratch/\n",
    "DATASET_NAME = \"Keras_Ford\"\n",
    "TRAIN_DATA = \"FordA_TRAIN.tsv\"\n",
    "TEST_DATA = \"FordA_TEST.tsv\"\n",
    "FS = 1"
   ]
  },
  {
   "cell_type": "code",
   "execution_count": 3,
   "metadata": {
    "id": "zrB7uWqASf71"
   },
   "outputs": [],
   "source": [
    "# Loading dataset\n",
    "FordA_TRAIN = pd.read_csv(TRAIN_DATA, sep=\"\\t\", header=None)\n",
    "y_train_original = np.array(FordA_TRAIN[0])\n",
    "X_train_original = np.array(FordA_TRAIN)[:,1:]\n",
    "\n",
    "FordA_TEST = pd.read_csv(TEST_DATA, sep=\"\\t\", header=None)\n",
    "y_test = np.array(FordA_TEST[0])\n",
    "X_test = np.array(FordA_TEST)[:,1:]\n",
    "\n",
    "# Shuffling data, creating val samples\n",
    "\n",
    "idx = np.random.permutation(len(X_train_original))\n",
    "\n",
    "num_val_samples = int(VAL_RATIO*len(idx))\n",
    "\n",
    "idx_train = idx[num_val_samples:]\n",
    "idx_val = idx[:num_val_samples]\n",
    "\n",
    "# Splitting data into training (which will be data augmented) and \n",
    "# validation (which will be kept for model validation)\n",
    "X_train = X_train_original[idx_train]\n",
    "y_train = y_train_original[idx_train]\n",
    "\n",
    "X_val = X_train_original[idx_val]\n",
    "y_val = y_train_original[idx_val]\n",
    "\n",
    "idx_test = np.random.permutation(len(X_test))\n",
    "X_test = X_test[idx_test]\n",
    "y_test = y_test[idx_test]\n",
    "\n",
    "\n",
    "\n",
    "# Processing labels\n",
    "y_train[y_train == -1] = 0\n",
    "y_val[y_val == -1] = 0\n",
    "y_test[y_test == -1] = 0\n",
    "\n",
    "\n",
    "\n",
    "# Create output dict\n",
    "\n",
    "dict_train_test_db = {\"X_train\": [], \"y_train\": [], \"X_test\": [], \"y_test\": [], \"X_val\": [], \"y_val\":[], \"val_ratio\": VAL_RATIO}\n",
    "dataset_description = \"Keras Ford A dataset\"\n",
    "dataset_preprocessing = \"\"\"Check https://www.cs.ucr.edu/~eamonn/time_series_data/ and https://keras.io/examples/timeseries/timeseries_classification_from_scratch/\"\"\"\n",
    "\n",
    "\n",
    "dict_train_test_db[\"X_train\"] = X_train\n",
    "dict_train_test_db[\"X_val\"] = X_val\n",
    "dict_train_test_db[\"X_test\"] = X_test\n",
    "\n",
    "dict_train_test_db[\"y_train\"] = y_train\n",
    "dict_train_test_db[\"y_val\"] = y_val\n",
    "dict_train_test_db[\"y_test\"] = y_test\n",
    "\n",
    "dict_train_test_db[\"fs\"] = FS\n",
    "\n",
    "\n",
    "dict_train_test_db[\"dataset_description\"] = \"\"\"\n",
    "This dataset [1] was used by Keras in tutorial [2] for time series classification. As per the Keras tutorial page, the dataset \n",
    "has measurements of sensors installed in a Ford car engine and was collected by Ford in a competition to diagnose and\n",
    "predict engine failures. The signals have 500 measurements and are divided into two classes. The negative class (here\n",
    "transformed to 0) represent observations corresponding to normal engine behavior. The positive (here, 1) class are \n",
    "from an engine presenting failure. \n",
    "\"\"\"\n",
    "\n",
    "dict_train_test_db[\"links\"] = \"\"\"\n",
    "[1] Chen, Y., Keogh, E., Hu, B., Begum, N., Bagnall, A., Mueen, A., & Batista, G. (n.d.). The UCR Time Series Classification Archive. Retrieved from https://www.cs.ucr.edu/~eamonn/time_series_data/\n",
    "[2] https://keras.io/examples/timeseries/timeseries_classification_from_scratch/\n",
    "\"\"\"\n",
    "\n",
    "\n",
    "\n"
   ]
  },
  {
   "cell_type": "code",
   "execution_count": 4,
   "metadata": {},
   "outputs": [],
   "source": [
    "# Saving output file\n",
    "\n",
    "output_filename = \"train_test_data_keras_ford.pkl\"\n",
    "with open(output_filename, \"wb\") as handle:\n",
    "    pickle.dump(dict_train_test_db, handle, protocol=3)\n"
   ]
  }
 ],
 "metadata": {
  "colab": {
   "authorship_tag": "ABX9TyPTi1HyJXuosBVV+ahMdEm6",
   "mount_file_id": "18x-u0Yotb_KUHrzo1R3ErFoEihdfHntG",
   "provenance": []
  },
  "kernelspec": {
   "display_name": "mod_surro_daug_venv (3.11.9)",
   "language": "python",
   "name": "python3"
  },
  "language_info": {
   "codemirror_mode": {
    "name": "ipython",
    "version": 3
   },
   "file_extension": ".py",
   "mimetype": "text/x-python",
   "name": "python",
   "nbconvert_exporter": "python",
   "pygments_lexer": "ipython3",
   "version": "3.11.9"
  }
 },
 "nbformat": 4,
 "nbformat_minor": 1
}
