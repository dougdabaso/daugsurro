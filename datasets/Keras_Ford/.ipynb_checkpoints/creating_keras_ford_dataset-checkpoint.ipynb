{
 "cells": [
  {
   "cell_type": "code",
   "execution_count": 1,
   "metadata": {
    "id": "rP1xgtogSXEK"
   },
   "outputs": [],
   "source": [
    "# Importing necessary python packages\n",
    "\n",
    "import pandas as pd\n",
    "import numpy as np\n",
    "import pickle\n",
    "import os"
   ]
  },
  {
   "cell_type": "code",
   "execution_count": 2,
   "metadata": {
    "id": "z8ixEf3BSrFD"
   },
   "outputs": [],
   "source": [
    "# Setting path and other input variable\n",
    "\n",
    "VAL_RATIO = 0.1\n",
    "DATASET_NAME = \"Keras_Ford\"\n",
    "TRAIN_DATA = \"FordA_TRAIN.tsv\"\n",
    "TEST_DATA = \"FordA_TEST.tsv\"\n",
    "FS = 1"
   ]
  },
  {
   "cell_type": "code",
   "execution_count": 3,
   "metadata": {
    "id": "zrB7uWqASf71"
   },
   "outputs": [],
   "source": [
    "\n",
    "\n",
    "# Loading dataset\n",
    "FordA_TRAIN = pd.read_csv(TRAIN_DATA, sep=\"\\t\", header=None)\n",
    "y_train = np.array(FordA_TRAIN[0])\n",
    "X_train = np.array(FordA_TRAIN)[:,1:]\n",
    "\n",
    "FordA_TEST = pd.read_csv(TEST_DATA, sep=\"\\t\", header=None)\n",
    "y_test = np.array(FordA_TEST[0])\n",
    "X_test = np.array(FordA_TEST)[:,1:]\n",
    "\n",
    "# Shuffling data\n",
    "\n",
    "idx = np.random.permutation(len(X_train))\n",
    "X_train = X_train[idx]\n",
    "y_train = y_train[idx]\n",
    "\n",
    "idx = np.random.permutation(len(X_test))\n",
    "X_test = X_test[idx]\n",
    "y_test = y_test[idx]\n",
    "\n",
    "# Processing labels\n",
    "\n",
    "y_train[y_train == -1] = 0\n",
    "y_test[y_test == -1] = 0\n",
    "\n",
    "\n",
    "# Create output dict\n",
    "\n",
    "dict_train_test_db = {\"X_train\": [], \"y_train\": [], \"X_test\": [], \"y_test\": [], \"val_ratio\": []}\n",
    "dataset_description = \"Keras Ford A dataset\"\n",
    "dataset_preprocessing = \"\"\"Check https://www.cs.ucr.edu/~eamonn/time_series_data/ and https://keras.io/examples/timeseries/timeseries_classification_from_scratch/\"\"\"\n",
    "\n",
    "\n",
    "dict_train_test_db[\"X_train\"] = X_train\n",
    "dict_train_test_db[\"X_test\"] = X_test\n",
    "\n",
    "dict_train_test_db[\"y_train\"] = y_train\n",
    "dict_train_test_db[\"y_test\"] = y_test\n",
    "\n",
    "dict_train_test_db[\"val_ratio\"] = VAL_RATIO\n",
    "dict_train_test_db[\"fs\"] = FS\n",
    "\n",
    "\n",
    "dict_train_test_db[\"dataset_description\"] = \"\"\"\n",
    "This dataset [1] was used by Keras in tutorial [2] for time series classification. As per the Keras tutorial page, the dataset \n",
    "has measurements of sensors installed in a Ford car engine and was collected by Ford in a competition to diagnose and\n",
    "predict engine failures. The signals have 500 measurements and are divided into two classes. The negative class (here\n",
    "transformed to 0) represent observations corresponding to normal engine behavior. The positive (here, 1) class are \n",
    "from an engine presenting failure. \n",
    "\"\"\"\n",
    "\n",
    "dict_train_test_db[\"links\"] = \"\"\"\n",
    "[1] Chen, Y., Keogh, E., Hu, B., Begum, N., Bagnall, A., Mueen, A., & Batista, G. (n.d.). The UCR Time Series Classification Archive. Retrieved from https://www.cs.ucr.edu/~eamonn/time_series_data/\n",
    "[2] https://keras.io/examples/timeseries/timeseries_classification_from_scratch/\n",
    "\"\"\"\n",
    "\n",
    "\n",
    "\n"
   ]
  },
  {
   "cell_type": "code",
   "execution_count": 4,
   "metadata": {},
   "outputs": [
    {
     "ename": "NameError",
     "evalue": "name 'output_filename' is not defined",
     "output_type": "error",
     "traceback": [
      "\u001b[1;31m---------------------------------------------------------------------------\u001b[0m",
      "\u001b[1;31mNameError\u001b[0m                                 Traceback (most recent call last)",
      "\u001b[1;32m<ipython-input-4-3fdf1e71112a>\u001b[0m in \u001b[0;36m<module>\u001b[1;34m\u001b[0m\n\u001b[0;32m      2\u001b[0m \u001b[1;33m\u001b[0m\u001b[0m\n\u001b[0;32m      3\u001b[0m \u001b[0moutput_file\u001b[0m \u001b[1;33m=\u001b[0m \u001b[1;34m\"train_test_data_keras_ford.pkl\"\u001b[0m\u001b[1;33m\u001b[0m\u001b[1;33m\u001b[0m\u001b[0m\n\u001b[1;32m----> 4\u001b[1;33m \u001b[1;32mwith\u001b[0m \u001b[0mopen\u001b[0m\u001b[1;33m(\u001b[0m\u001b[0moutput_filename\u001b[0m\u001b[1;33m,\u001b[0m \u001b[1;34m\"wb\"\u001b[0m\u001b[1;33m)\u001b[0m \u001b[1;32mas\u001b[0m \u001b[0mhandle\u001b[0m\u001b[1;33m:\u001b[0m\u001b[1;33m\u001b[0m\u001b[1;33m\u001b[0m\u001b[0m\n\u001b[0m\u001b[0;32m      5\u001b[0m     \u001b[0mpickle\u001b[0m\u001b[1;33m.\u001b[0m\u001b[0mdump\u001b[0m\u001b[1;33m(\u001b[0m\u001b[0mdict_train_test_db\u001b[0m\u001b[1;33m,\u001b[0m \u001b[0mhandle\u001b[0m\u001b[1;33m)\u001b[0m\u001b[1;33m\u001b[0m\u001b[1;33m\u001b[0m\u001b[0m\n",
      "\u001b[1;31mNameError\u001b[0m: name 'output_filename' is not defined"
     ]
    }
   ],
   "source": [
    "# Saving output file\n",
    "\n",
    "output_filename = \"train_test_data_keras_ford.pkl\"\n",
    "with open(output_filename, \"wb\") as handle:\n",
    "    pickle.dump(dict_train_test_db, handle)\n"
   ]
  },
  {
   "cell_type": "code",
   "execution_count": null,
   "metadata": {
    "executionInfo": {
     "elapsed": 11,
     "status": "ok",
     "timestamp": 1754319054431,
     "user": {
      "displayName": "Douglas DBS",
      "userId": "16532624547202900075"
     },
     "user_tz": -120
    },
    "id": "yqqehuGUWedT"
   },
   "outputs": [],
   "source": []
  }
 ],
 "metadata": {
  "colab": {
   "authorship_tag": "ABX9TyPTi1HyJXuosBVV+ahMdEm6",
   "mount_file_id": "18x-u0Yotb_KUHrzo1R3ErFoEihdfHntG",
   "provenance": []
  },
  "kernelspec": {
   "display_name": "Python 3",
   "language": "python",
   "name": "python3"
  },
  "language_info": {
   "codemirror_mode": {
    "name": "ipython",
    "version": 3
   },
   "file_extension": ".py",
   "mimetype": "text/x-python",
   "name": "python",
   "nbconvert_exporter": "python",
   "pygments_lexer": "ipython3",
   "version": "3.7.1"
  }
 },
 "nbformat": 4,
 "nbformat_minor": 1
}
