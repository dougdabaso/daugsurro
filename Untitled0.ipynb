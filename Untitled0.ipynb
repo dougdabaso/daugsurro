{
 "cells": [
  {
   "cell_type": "code",
   "execution_count": 7,
   "metadata": {
    "id": "NdL6we-hgeRk"
   },
   "outputs": [],
   "source": [
    "# Importing necessary python packages\n",
    "import matplotlib.pyplot as plt\n",
    "from scipy import signal\n",
    "import numpy as np\n",
    "import itertools\n",
    "import random\n",
    "import pickle\n",
    "import torch\n",
    "import os\n",
    "\n",
    "# Importing model setups for experiment\n",
    "from model_setups import keras_cnn_tf_from_scratch\n",
    "\n",
    "# Import project-specific functions and classes\n",
    "from utils import *"
   ]
  },
  {
   "cell_type": "code",
   "execution_count": 2,
   "metadata": {
    "id": "hWcR7GNHUi9C"
   },
   "outputs": [],
   "source": [
    "# Setting path and other input variable\n",
    "\n",
    "main_folder = os.getcwd()\n",
    "folder_data = \"datasets\"\n",
    "\n",
    "\n",
    "# Setting up input parameters\n",
    "\n",
    "N_REPLICATES = 3\n",
    "CLASSES_TO_AUGMENT = \"minority\"\n",
    "FRAC_FREQ_SHUFFLE = 0.5\n",
    "FRAC_SIG_PAIRS_COMP_COH = 0.05\n",
    "AUG_MODE = \"all\"\n",
    "FRAC_SIGS_TO_AUG = None"
   ]
  },
  {
   "cell_type": "code",
   "execution_count": 3,
   "metadata": {
    "id": "BUrPlcTOMZ-N"
   },
   "outputs": [],
   "source": [
    "# Opening datasets to be used in simulation\n",
    "\n",
    "dataset_name = \"Keras_Ford\"\n",
    "dataset_proc_file = \"train_test_data_keras_ford.pkl\"\n",
    "\n",
    "with open(os.path.join(main_folder, folder_data, dataset_name, dataset_proc_file), \"rb\") as file:\n",
    "    dict_train_test_db = pickle.load(file)"
   ]
  },
  {
   "cell_type": "code",
   "execution_count": 4,
   "metadata": {},
   "outputs": [],
   "source": [
    "\n",
    "\n",
    "# Loading original signals\n",
    "\n",
    "X_train = dict_train_test_db[\"X_train\"]\n",
    "y_train = dict_train_test_db[\"y_train\"]\n",
    "\n",
    "X_val = dict_train_test_db[\"X_val\"]\n",
    "y_val = dict_train_test_db[\"y_val\"]\n",
    "\n",
    "X_test = dict_train_test_db[\"X_test\"]\n",
    "y_test = dict_train_test_db[\"y_test\"]\n",
    "\n",
    "fs = dict_train_test_db[\"fs\"]\n",
    "\n",
    "if len(y_train) != np.shape(X_train)[0]:\n",
    "    \n",
    "    raise ValueError(\"y_train and X_train do not have the correct shape. The axis 0 of X_train should be the number of signals and match the lenght of y_train\")\n",
    "\n",
    "  \n",
    "\n",
    "\n",
    "\n",
    "    \n",
    "\n"
   ]
  },
  {
   "cell_type": "code",
   "execution_count": 5,
   "metadata": {},
   "outputs": [],
   "source": [
    "    \n",
    "dict_output = surro_signal_augmenter(X_train, \n",
    "                           y_train, \n",
    "                           fs=1, \n",
    "                           n_replicates=N_REPLICATES, \n",
    "                           classes_to_augment=CLASSES_TO_AUGMENT, \n",
    "                           frac_freq_shuffle=FRAC_FREQ_SHUFFLE, \n",
    "                           frac_sig_pairs_comp_coh = FRAC_SIG_PAIRS_COMP_COH,\n",
    "                           aug_mode=AUG_MODE,\n",
    "                           frac_sigs_to_aug=FRAC_SIGS_TO_AUG)\n",
    "\n",
    "\n"
   ]
  },
  {
   "cell_type": "code",
   "execution_count": 10,
   "metadata": {},
   "outputs": [
    {
     "data": {
      "text/plain": [
       "dict_keys(['X_train_final', 'y_train_final', 'X_train_keep', 'y_train_keep', 'array_ens_label', 'array_ens_surro'])"
      ]
     },
     "execution_count": 10,
     "metadata": {},
     "output_type": "execute_result"
    }
   ],
   "source": [
    "dict_output.keys()"
   ]
  },
  {
   "cell_type": "code",
   "execution_count": null,
   "metadata": {},
   "outputs": [
    {
     "data": {
      "text/plain": [
       "{'X_train_final': {'shape': (6389, 500)},\n",
       " 'y_train_final': {'shape': (6389,)},\n",
       " 'X_train_keep': {'shape': (1667, 500)},\n",
       " 'array_ens_surro': {'shape': (4722, 500)},\n",
       " 'array_ens_label': {'shape': (4722,)},\n",
       " 'effective_aug_ratio': 0.5072781342933166}"
      ]
     },
     "execution_count": 25,
     "metadata": {},
     "output_type": "execute_result"
    }
   ],
   "source": []
  },
  {
   "cell_type": "code",
   "execution_count": null,
   "metadata": {},
   "outputs": [
    {
     "data": {
      "text/plain": [
       "0.5072781342933166"
      ]
     },
     "execution_count": 23,
     "metadata": {},
     "output_type": "execute_result"
    }
   ],
   "source": []
  },
  {
   "cell_type": "code",
   "execution_count": 12,
   "metadata": {},
   "outputs": [
    {
     "data": {
      "text/plain": [
       "array([0, 0, 0, ..., 0, 0, 0], shape=(1667,))"
      ]
     },
     "execution_count": 12,
     "metadata": {},
     "output_type": "execute_result"
    }
   ],
   "source": [
    "dict_output[\"y_train_keep\"]"
   ]
  },
  {
   "cell_type": "code",
   "execution_count": 11,
   "metadata": {},
   "outputs": [
    {
     "data": {
      "text/plain": [
       "array([1., 1., 1., ..., 1., 1., 1.], shape=(4722,))"
      ]
     },
     "execution_count": 11,
     "metadata": {},
     "output_type": "execute_result"
    }
   ],
   "source": [
    "dict_output[\"array_ens_label\"]"
   ]
  },
  {
   "cell_type": "code",
   "execution_count": null,
   "metadata": {},
   "outputs": [],
   "source": [
    "dict_output = surro_signal_augmenter(X_train, \n",
    "                           y_train, \n",
    "                           fs=1, \n",
    "                           n_replicates=1, \n",
    "                           classes_to_augment=\"minority\", \n",
    "                           frac_freq_shuffle=0.01, \n",
    "                           frac_sig_pairs_comp_coh = 0.01,\n",
    "                           aug_mode=\"random_sample\",\n",
    "                           frac_sigs_to_aug=0.01)"
   ]
  },
  {
   "cell_type": "code",
   "execution_count": null,
   "metadata": {},
   "outputs": [],
   "source": [
    "from utils import surro_signal_augmenter"
   ]
  },
  {
   "cell_type": "code",
   "execution_count": null,
   "metadata": {},
   "outputs": [],
   "source": [
    "dict_output"
   ]
  },
  {
   "cell_type": "code",
   "execution_count": 29,
   "metadata": {},
   "outputs": [
    {
     "data": {
      "text/plain": [
       "{np.float64(1.0)}"
      ]
     },
     "execution_count": 29,
     "metadata": {},
     "output_type": "execute_result"
    }
   ],
   "source": [
    "set(dict_output[\"array_ens_label\"])"
   ]
  },
  {
   "cell_type": "code",
   "execution_count": 30,
   "metadata": {},
   "outputs": [
    {
     "data": {
      "image/png": "[encoded data removed]",
      "text/plain": [
       "<Figure size 640x480 with 1 Axes>"
      ]
     },
     "metadata": {},
     "output_type": "display_data"
    }
   ],
   "source": [
    "\n",
    "\n",
    "\n",
    "# Plotting examples of original vs. augmented signal for one sample of each class\n",
    "\n",
    "augmented_classes = list(set(dict_output[\"array_ens_label\"]))\n",
    "\n",
    "for my_class in augmented_classes:\n",
    "\n",
    "    idx_aug_class = [i for i, v in enumerate(dict_output[\"array_ens_label\"] == my_class) if v]\n",
    "    idx_ori_class = [i for i, v in enumerate(y_train == my_class) if v]\n",
    "\n",
    "    # Randomly picking one signal sample from current class to plot\n",
    "    idx_aug_sig = random.choice(idx_aug_class)\n",
    "    idx_ori_sig = random.choice(idx_ori_class)\n",
    "\n",
    "    aug_sig_sample = dict_output[\"array_ens_surro\"][idx_aug_sig]\n",
    "    ori_sig_sample = X_train[idx_ori_sig]\n",
    "\n",
    "    # Plot\n",
    "    plt.plot(aug_sig_sample, color=\"black\", label=\"Aug. signal\")\n",
    "    plt.plot(ori_sig_sample, color=\"gray\", label=\"Ori. signal\")\n",
    "    plt.xlabel(\"time (n)\")\n",
    "    plt.ylabel(\"Values\")\n",
    "    plt.title(f\"Example aug. vs. original signal of class '{int(my_class)}'\")\n",
    "    plt.legend(loc=\"upper right\")\n",
    "    # plt.show()\n",
    "\n",
    "    # Save the plot to a PDF file\n",
    "    # os.makedirs(folder_path, exist_ok=True)\n",
    "\n",
    "    plt.savefig(\"plot.pdf\") \n",
    "\n",
    "\n"
   ]
  },
  {
   "cell_type": "code",
   "execution_count": null,
   "metadata": {},
   "outputs": [],
   "source": []
  },
  {
   "cell_type": "code",
   "execution_count": null,
   "metadata": {
    "colab": {
     "base_uri": "https://localhost:8080/"
    },
    "executionInfo": {
     "elapsed": 6,
     "status": "ok",
     "timestamp": 1754319885472,
     "user": {
      "displayName": "Douglas DBS",
      "userId": "16532624547202900075"
     },
     "user_tz": -120
    },
    "id": "Lao5iRLedCEx",
    "outputId": "ce0bcb24-ca0d-461f-97ce-db05666ca521"
   },
   "outputs": [],
   "source": [
    "np.shape(X_train)"
   ]
  },
  {
   "cell_type": "code",
   "execution_count": null,
   "metadata": {
    "colab": {
     "base_uri": "https://localhost:8080/"
    },
    "executionInfo": {
     "elapsed": 5,
     "status": "ok",
     "timestamp": 1754319885478,
     "user": {
      "displayName": "Douglas DBS",
      "userId": "16532624547202900075"
     },
     "user_tz": -120
    },
    "id": "2pjTbW6UdIq8",
    "outputId": "bad8fc6c-fec1-4609-b63c-7b1dab3a8144"
   },
   "outputs": [],
   "source": [
    "np.shape(y_train)"
   ]
  },
  {
   "cell_type": "code",
   "execution_count": null,
   "metadata": {
    "id": "dTDkrxc8hO1Q"
   },
   "outputs": [],
   "source": [
    "X = X_train.reshape((np.shape(X_train)[0], np.shape(X_train)[1], 1))"
   ]
  },
  {
   "cell_type": "code",
   "execution_count": null,
   "metadata": {
    "id": "JT1d6d7Za_VN"
   },
   "outputs": [],
   "source": [
    "loaded_model = keras_cnn_tf_from_scratch(input_shape=(np.shape(X_train)[1], 1), num_classes=2)\n",
    "loaded_model.compile(optimizer=\"adam\", loss=\"sparse_categorical_crossentropy\", metrics=[\"sparse_categorical_accuracy\"])"
   ]
  },
  {
   "cell_type": "code",
   "execution_count": null,
   "metadata": {
    "colab": {
     "base_uri": "https://localhost:8080/"
    },
    "executionInfo": {
     "elapsed": 43886,
     "status": "ok",
     "timestamp": 1754319929424,
     "user": {
      "displayName": "Douglas DBS",
      "userId": "16532624547202900075"
     },
     "user_tz": -120
    },
    "id": "5wryl8hQfgtS",
    "outputId": "751c1fc5-8e0a-42b9-a074-aba68d7486e5"
   },
   "outputs": [],
   "source": [
    "history = loaded_model.fit(X_train,\n",
    "                          y_train,\n",
    "                          epochs=50,\n",
    "                          validation_data=(X_val, y_val),\n",
    "                          batch_size=32,\n",
    "                          verbose=1)"
   ]
  },
  {
   "cell_type": "code",
   "execution_count": null,
   "metadata": {
    "id": "HEHPs6zVIbw4"
   },
   "outputs": [],
   "source": [
    "# Evaluate on test data\n",
    "loss, accuracy = loaded_model.evaluate(X_test, y_test, verbose=0)\n",
    "\n",
    "print(f\"Test accuracy: {accuracy:.4f}\")\n",
    "print(f\"Test loss: {loss:.4f}\")"
   ]
  },
  {
   "cell_type": "code",
   "execution_count": null,
   "metadata": {
    "id": "9KUfTy10h0__"
   },
   "outputs": [],
   "source": [
    "import matplotlib.pyplot as plt\n",
    "\n",
    "# Plot training & validation accuracy\n",
    "plt.figure(figsize=(12, 5))\n",
    "\n",
    "plt.subplot(1, 2, 1)\n",
    "plt.plot(history.history['sparse_categorical_accuracy'], label='Train Accuracy', color='blue')\n",
    "plt.plot(history.history['val_sparse_categorical_accuracy'], label='Validation Accuracy', color='orange')\n",
    "plt.xlabel('Epoch')\n",
    "plt.ylabel('Accuracy')\n",
    "plt.title('Training vs Validation Accuracy')\n",
    "plt.legend()\n",
    "\n",
    "# Plot training & validation loss\n",
    "plt.subplot(1, 2, 2)\n",
    "plt.plot(history.history['loss'], label='Train Loss', color='blue')\n",
    "plt.plot(history.history['val_loss'], label='Validation Loss', color='orange')\n",
    "plt.xlabel('Epoch')\n",
    "plt.ylabel('Loss')\n",
    "plt.title('Training vs Validation Loss')\n",
    "plt.legend()\n",
    "\n",
    "plt.tight_layout()\n",
    "plt.show()\n"
   ]
  },
  {
   "cell_type": "code",
   "execution_count": null,
   "metadata": {
    "id": "0gJGSakOebyI"
   },
   "outputs": [],
   "source": [
    "print(history.history.keys())"
   ]
  },
  {
   "cell_type": "code",
   "execution_count": null,
   "metadata": {
    "id": "dtdUMkp1eemo"
   },
   "outputs": [],
   "source": []
  },
  {
   "cell_type": "code",
   "execution_count": 9,
   "metadata": {
    "id": "jfdAF-DNa7EO"
   },
   "outputs": [
    {
     "name": "stdout",
     "output_type": "stream",
     "text": [
      "2025_08_19_T_15_56_19\n"
     ]
    }
   ],
   "source": [
    "from datetime import datetime\n",
    "\n",
    "# Get current datetime\n",
    "now = datetime.now()\n",
    "\n",
    "# Format it like \"2024_09_01_T_12_42_49\"\n",
    "timestamp_str = now.strftime(\"%Y_%m_%d_T_%H_%M_%S\")\n",
    "\n",
    "print(timestamp_str)\n",
    "\n",
    "\n"
   ]
  },
  {
   "cell_type": "code",
   "execution_count": 1,
   "metadata": {},
   "outputs": [],
   "source": [
    "import tsaug\n",
    "from tsaug import AddNoise, Dropout, Pool, Drift"
   ]
  },
  {
   "cell_type": "code",
   "execution_count": 3,
   "metadata": {},
   "outputs": [],
   "source": [
    "my_daug_std = 2"
   ]
  },
  {
   "cell_type": "code",
   "execution_count": null,
   "metadata": {},
   "outputs": [],
   "source": [
    "{\"AddNoise\": {\"scale\": 0.02},\n",
    " \"Dropout\": {\"p\": 0.1, \"size\": [1,5]},\n",
    " \"Drift\": {\"max_drift\": 0.7, \"n_drift_points\": 5},\n",
    " \"Pool\": {\"size\": 2},\n",
    " \"Covolve\": {\"window\": \"hann\", \"frac_size\": 0.1},\n",
    " \"Quantize\": {\"n_levels\": 20},\n",
    " \"TimeWarp\": {\"n_speed_change\": 5, \"max_speed_ratio\": 3}\n",
    " }"
   ]
  },
  {
   "cell_type": "code",
   "execution_count": 14,
   "metadata": {},
   "outputs": [],
   "source": [
    "FOLDER_CONFIG = \"config\""
   ]
  },
  {
   "cell_type": "code",
   "execution_count": 42,
   "metadata": {},
   "outputs": [],
   "source": [
    "import json\n",
    "# Opening config file\n",
    "with open(os.path.join(FOLDER_CONFIG,\"tsaug_setup_default.json\"), \"r\", encoding=\"utf-8\") as f:\n",
    "    tsaug_config = json.load(f)"
   ]
  },
  {
   "cell_type": "code",
   "execution_count": 43,
   "metadata": {},
   "outputs": [
    {
     "data": {
      "text/plain": [
       "{'AddNoise': {'scale': 0.02},\n",
       " 'Dropout': {'p': 0.1, 'size': [1, 5]},\n",
       " 'Drift': {'max_drift': 0.7, 'n_drift_points': 5},\n",
       " 'Pool': {'size': 2},\n",
       " 'Convolve': {'window': 'hann', 'frac_size': 0.1},\n",
       " 'Quantize': {'n_levels': 20},\n",
       " 'TimeWarp': {'n_speed_change': 5, 'max_speed_ratio': 3}}"
      ]
     },
     "execution_count": 43,
     "metadata": {},
     "output_type": "execute_result"
    }
   ],
   "source": [
    "tsaug_config"
   ]
  },
  {
   "cell_type": "code",
   "execution_count": null,
   "metadata": {},
   "outputs": [
    {
     "data": {
      "text/plain": [
       "0.1"
      ]
     },
     "execution_count": 44,
     "metadata": {},
     "output_type": "execute_result"
    }
   ],
   "source": []
  },
  {
   "cell_type": "code",
   "execution_count": null,
   "metadata": {},
   "outputs": [],
   "source": []
  },
  {
   "cell_type": "code",
   "execution_count": 36,
   "metadata": {},
   "outputs": [],
   "source": [
    "available_transf = list(tsaug_config.keys())"
   ]
  },
  {
   "cell_type": "code",
   "execution_count": 37,
   "metadata": {},
   "outputs": [
    {
     "data": {
      "text/plain": [
       "['AddNoise', 'Dropout', 'Drift', 'Pool', 'Convolve', 'Quantize', 'TimeWarp']"
      ]
     },
     "execution_count": 37,
     "metadata": {},
     "output_type": "execute_result"
    }
   ],
   "source": [
    "available_transf"
   ]
  },
  {
   "cell_type": "code",
   "execution_count": 45,
   "metadata": {},
   "outputs": [],
   "source": [
    "my_daug_std = 20\n",
    "signal_len = 500"
   ]
  },
  {
   "cell_type": "code",
   "execution_count": null,
   "metadata": {},
   "outputs": [],
   "source": [
    "\n",
    " \n",
    "for i_transf in range(len(available_transf)):\n",
    "\n",
    "    transf = available_transf[i_transf]\n",
    "\n",
    "    if transf == \"AddNoise\":\n",
    "        my_current_augmenter = tsaug.AddNoise(scale=(my_daug_std*(1 - tsaug_config[\"AddNoise\"][\"scale\"]), my_daug_std*(1 + tsaug_config[\"AddNoise\"][\"scale\"])))\n",
    "\n",
    "    elif transf == \"Dropout\":\n",
    "        my_current_augmenter = tsaug.Dropout(p=tsaug_config[\"Dropout\"][\"p\"], size=(tsaug_config[\"Dropout\"][\"size\"][0], tsaug_config[\"Dropout\"][\"size\"][1]))\n",
    "\n",
    "    elif transf == \"Drift\":\n",
    "        my_current_augmenter = tsaug.Drift(max_drift=tsaug_config[\"Drift\"][\"max_drift\"], n_drift_points=tsaug_config[\"Drift\"][\"n_drift_points\"])\n",
    "\n",
    "    elif transf == \"Pool\":\n",
    "        my_current_augmenter = tsaug.Pool(size=tsaug_config[\"Pool\"][\"size\"])\n",
    "\n",
    "    elif transf == \"Convolve\":\n",
    "        my_current_augmenter = tsaug.Convolve(window=tsaug_config[\"Convolve\"][\"window\"], size=int(tsaug_config[\"Convolve\"][\"frac_size\"]*signal_len))\n",
    "\n",
    "    elif transf == \"Quantize\":\n",
    "        my_current_augmenter = tsaug.Quantize(n_levels=tsaug_config[\"Quantize\"][\"n_levels\"])\n",
    "\n",
    "    elif transf == \"TimeWarp\":\n",
    "        my_current_augmenter = tsaug.TimeWarp(n_speed_change=tsaug_config[\"TimeWarp\"][\"n_speed_change\"], max_speed_ratio=tsaug_config[\"TimeWarp\"][\"max_speed_ratio\"])\n",
    "\n",
    "\n",
    "    if i_transf == 0:\n",
    "        my_augmenter = my_current_augmenter\n",
    "\n",
    "    else:\n",
    "        my_augmenter = my_augmenter + my_current_augmenter"
   ]
  },
  {
   "cell_type": "code",
   "execution_count": 55,
   "metadata": {},
   "outputs": [
    {
     "name": "stdout",
     "output_type": "stream",
     "text": [
      "idx\taugmenter\t repeats\t prob\t\n",
      "=============================================\n",
      "  0\tAddNoise\t       1\t    1\t\n",
      "  1\tDropout \t       1\t    1\t\n",
      "  2\tDrift   \t       1\t    1\t\n",
      "  3\tPool    \t       1\t    1\t\n",
      "  4\tConvolve\t       1\t    1\t\n",
      "  5\tQuantize\t       1\t    1\t\n",
      "  6\tTimeWarp\t       1\t    1\t\n"
     ]
    },
    {
     "data": {
      "text/plain": [
       "['__bool__',\n",
       " '__class__',\n",
       " '__delattr__',\n",
       " '__dir__',\n",
       " '__doc__',\n",
       " '__eq__',\n",
       " '__format__',\n",
       " '__ge__',\n",
       " '__getattribute__',\n",
       " '__getstate__',\n",
       " '__gt__',\n",
       " '__hash__',\n",
       " '__init__',\n",
       " '__init_subclass__',\n",
       " '__le__',\n",
       " '__lt__',\n",
       " '__ne__',\n",
       " '__new__',\n",
       " '__reduce__',\n",
       " '__reduce_ex__',\n",
       " '__repr__',\n",
       " '__setattr__',\n",
       " '__sizeof__',\n",
       " '__str__',\n",
       " '__subclasshook__']"
      ]
     },
     "execution_count": 55,
     "metadata": {},
     "output_type": "execute_result"
    }
   ],
   "source": [
    "dir(my_augmenter.summary())"
   ]
  },
  {
   "cell_type": "code",
   "execution_count": 52,
   "metadata": {},
   "outputs": [
    {
     "name": "stdout",
     "output_type": "stream",
     "text": [
      "None\n"
     ]
    }
   ],
   "source": [
    "print(x)"
   ]
  },
  {
   "cell_type": "code",
   "execution_count": 26,
   "metadata": {},
   "outputs": [],
   "source": [
    "my_augmenter = AddNoise(scale=(my_daug_std*0.9, my_daug_std*1.1))\n",
    "my_augmenter =  my_augmenter + Dropout(0.1) "
   ]
  },
  {
   "cell_type": "code",
   "execution_count": 27,
   "metadata": {},
   "outputs": [
    {
     "name": "stdout",
     "output_type": "stream",
     "text": [
      "idx\taugmenter\t repeats\t prob\t\n",
      "=============================================\n",
      "  0\tAddNoise\t       1\t    1\t\n",
      "  1\tDropout \t       1\t    1\t\n"
     ]
    }
   ],
   "source": [
    "my_augmenter.summary()"
   ]
  },
  {
   "cell_type": "code",
   "execution_count": 28,
   "metadata": {},
   "outputs": [],
   "source": [
    "my_augmenter = my_augmenter + Drift(max_drift=0.7, n_drift_points=5) + Pool(size=5)"
   ]
  },
  {
   "cell_type": "code",
   "execution_count": 29,
   "metadata": {},
   "outputs": [
    {
     "name": "stdout",
     "output_type": "stream",
     "text": [
      "idx\taugmenter\t repeats\t prob\t\n",
      "=============================================\n",
      "  0\tAddNoise\t       1\t    1\t\n",
      "  1\tDropout \t       1\t    1\t\n",
      "  2\tDrift   \t       1\t    1\t\n",
      "  3\tPool    \t       1\t    1\t\n"
     ]
    }
   ],
   "source": [
    "my_augmenter.summary()"
   ]
  },
  {
   "cell_type": "code",
   "execution_count": 8,
   "metadata": {},
   "outputs": [],
   "source": [
    "current_x = np.random.rand(100)"
   ]
  },
  {
   "cell_type": "code",
   "execution_count": 12,
   "metadata": {},
   "outputs": [
    {
     "data": {
      "text/plain": [
       "100"
      ]
     },
     "execution_count": 12,
     "metadata": {},
     "output_type": "execute_result"
    }
   ],
   "source": [
    "len(my_augmenter.augment(current_x))"
   ]
  },
  {
   "cell_type": "code",
   "execution_count": null,
   "metadata": {},
   "outputs": [
    {
     "name": "stderr",
     "output_type": "stream",
     "text": [
      "c:\\Users\\chrys\\doug\\mod_surro_daug\\mod_surro_daug_venv\\Lib\\site-packages\\tensorflow_addons\\utils\\tfa_eol_msg.py:23: UserWarning: \n",
      "\n",
      "TensorFlow Addons (TFA) has ended development and introduction of new features.\n",
      "TFA has entered a minimal maintenance and release mode until a planned end of life in May 2024.\n",
      "Please modify downstream libraries to take dependencies from other repositories in our TensorFlow community (e.g. Keras, Keras-CV, and Keras-NLP). \n",
      "\n",
      "For more information see: https://github.com/tensorflow/addons/issues/2807 \n",
      "\n",
      "  warnings.warn(\n",
      "c:\\Users\\chrys\\doug\\mod_surro_daug\\mod_surro_daug_venv\\Lib\\site-packages\\tensorflow_addons\\utils\\ensure_tf_install.py:53: UserWarning: Tensorflow Addons supports using Python ops for all Tensorflow versions above or equal to 2.12.0 and strictly below 2.15.0 (nightly versions are not supported). \n",
      " The versions of TensorFlow you are currently using is 2.20.0 and is not supported. \n",
      "Some things might work, some things might not.\n",
      "If you were to encounter a bug, do not file an issue.\n",
      "If you want to make sure you're using a tested and supported configuration, either change the TensorFlow version or the TensorFlow Addons's version. \n",
      "You can find the compatibility matrix in TensorFlow Addon's readme:\n",
      "https://github.com/tensorflow/addons\n",
      "  warnings.warn(\n"
     ]
    },
    {
     "ename": "ModuleNotFoundError",
     "evalue": "No module named 'keras.src.engine'",
     "output_type": "error",
     "traceback": [
      "\u001b[31m---------------------------------------------------------------------------\u001b[39m",
      "\u001b[31mModuleNotFoundError\u001b[39m                       Traceback (most recent call last)",
      "\u001b[36mCell\u001b[39m\u001b[36m \u001b[39m\u001b[32mIn[13]\u001b[39m\u001b[32m, line 1\u001b[39m\n\u001b[32m----> \u001b[39m\u001b[32m1\u001b[39m \u001b[38;5;28;01mfrom\u001b[39;00m\u001b[38;5;250m \u001b[39m\u001b[34;01maugmentts\u001b[39;00m\u001b[34;01m.\u001b[39;00m\u001b[34;01maugmenters\u001b[39;00m\u001b[34;01m.\u001b[39;00m\u001b[34;01mvae\u001b[39;00m\u001b[38;5;250m \u001b[39m\u001b[38;5;28;01mimport\u001b[39;00m LSTMVAE, VAEAugmenter\n\u001b[32m      3\u001b[39m \u001b[38;5;66;03m# create a variational autoencoder\u001b[39;00m\n\u001b[32m      4\u001b[39m vae = LSTMVAE(series_len=\u001b[32m100\u001b[39m)\n",
      "\u001b[36mFile \u001b[39m\u001b[32mc:\\Users\\chrys\\doug\\mod_surro_daug\\mod_surro_daug_venv\\Lib\\site-packages\\augmentts\\augmenters\\vae.py:15\u001b[39m\n\u001b[32m     13\u001b[39m \u001b[38;5;28;01mfrom\u001b[39;00m\u001b[38;5;250m \u001b[39m\u001b[34;01mkeras\u001b[39;00m\u001b[34;01m.\u001b[39;00m\u001b[34;01mlayers\u001b[39;00m\u001b[38;5;250m \u001b[39m\u001b[38;5;28;01mimport\u001b[39;00m RepeatVector\n\u001b[32m     14\u001b[39m \u001b[38;5;28;01mfrom\u001b[39;00m\u001b[38;5;250m \u001b[39m\u001b[34;01mkeras\u001b[39;00m\u001b[34;01m.\u001b[39;00m\u001b[34;01mlayers\u001b[39;00m\u001b[38;5;250m \u001b[39m\u001b[38;5;28;01mimport\u001b[39;00m TimeDistributed\n\u001b[32m---> \u001b[39m\u001b[32m15\u001b[39m \u001b[38;5;28;01mimport\u001b[39;00m\u001b[38;5;250m \u001b[39m\u001b[34;01mtensorflow_addons\u001b[39;00m\u001b[38;5;250m \u001b[39m\u001b[38;5;28;01mas\u001b[39;00m\u001b[38;5;250m \u001b[39m\u001b[34;01mtfa\u001b[39;00m\n\u001b[32m     18\u001b[39m \u001b[38;5;28;01mclass\u001b[39;00m\u001b[38;5;250m \u001b[39m\u001b[34;01mSampling\u001b[39;00m(layers.Layer):\n\u001b[32m     19\u001b[39m \u001b[38;5;250m    \u001b[39m\u001b[33;03m\"\"\"Reparameterization trick requierd for training VAE.\u001b[39;00m\n\u001b[32m     20\u001b[39m \u001b[33;03m       Currently supports only normal distribution, and it will be improved\u001b[39;00m\n\u001b[32m     21\u001b[39m \u001b[33;03m    \"\"\"\u001b[39;00m\n",
      "\u001b[36mFile \u001b[39m\u001b[32mc:\\Users\\chrys\\doug\\mod_surro_daug\\mod_surro_daug_venv\\Lib\\site-packages\\tensorflow_addons\\__init__.py:23\u001b[39m\n\u001b[32m     20\u001b[39m _check_tf_version()\n\u001b[32m     22\u001b[39m \u001b[38;5;66;03m# Local project imports\u001b[39;00m\n\u001b[32m---> \u001b[39m\u001b[32m23\u001b[39m \u001b[38;5;28;01mfrom\u001b[39;00m\u001b[38;5;250m \u001b[39m\u001b[34;01mtensorflow_addons\u001b[39;00m\u001b[38;5;250m \u001b[39m\u001b[38;5;28;01mimport\u001b[39;00m activations\n\u001b[32m     24\u001b[39m \u001b[38;5;28;01mfrom\u001b[39;00m\u001b[38;5;250m \u001b[39m\u001b[34;01mtensorflow_addons\u001b[39;00m\u001b[38;5;250m \u001b[39m\u001b[38;5;28;01mimport\u001b[39;00m callbacks\n\u001b[32m     25\u001b[39m \u001b[38;5;28;01mfrom\u001b[39;00m\u001b[38;5;250m \u001b[39m\u001b[34;01mtensorflow_addons\u001b[39;00m\u001b[38;5;250m \u001b[39m\u001b[38;5;28;01mimport\u001b[39;00m image\n",
      "\u001b[36mFile \u001b[39m\u001b[32mc:\\Users\\chrys\\doug\\mod_surro_daug\\mod_surro_daug_venv\\Lib\\site-packages\\tensorflow_addons\\activations\\__init__.py:17\u001b[39m\n\u001b[32m      1\u001b[39m \u001b[38;5;66;03m# Copyright 2019 The TensorFlow Authors. All Rights Reserved.\u001b[39;00m\n\u001b[32m      2\u001b[39m \u001b[38;5;66;03m#\u001b[39;00m\n\u001b[32m      3\u001b[39m \u001b[38;5;66;03m# Licensed under the Apache License, Version 2.0 (the \"License\");\u001b[39;00m\n\u001b[32m   (...)\u001b[39m\u001b[32m     13\u001b[39m \u001b[38;5;66;03m# limitations under the License.\u001b[39;00m\n\u001b[32m     14\u001b[39m \u001b[38;5;66;03m# ==============================================================================\u001b[39;00m\n\u001b[32m     15\u001b[39m \u001b[33;03m\"\"\"Additional activation functions.\"\"\"\u001b[39;00m\n\u001b[32m---> \u001b[39m\u001b[32m17\u001b[39m \u001b[38;5;28;01mfrom\u001b[39;00m\u001b[38;5;250m \u001b[39m\u001b[34;01mtensorflow_addons\u001b[39;00m\u001b[34;01m.\u001b[39;00m\u001b[34;01mactivations\u001b[39;00m\u001b[34;01m.\u001b[39;00m\u001b[34;01mgelu\u001b[39;00m\u001b[38;5;250m \u001b[39m\u001b[38;5;28;01mimport\u001b[39;00m gelu\n\u001b[32m     18\u001b[39m \u001b[38;5;28;01mfrom\u001b[39;00m\u001b[38;5;250m \u001b[39m\u001b[34;01mtensorflow_addons\u001b[39;00m\u001b[34;01m.\u001b[39;00m\u001b[34;01mactivations\u001b[39;00m\u001b[34;01m.\u001b[39;00m\u001b[34;01mhardshrink\u001b[39;00m\u001b[38;5;250m \u001b[39m\u001b[38;5;28;01mimport\u001b[39;00m hardshrink\n\u001b[32m     19\u001b[39m \u001b[38;5;28;01mfrom\u001b[39;00m\u001b[38;5;250m \u001b[39m\u001b[34;01mtensorflow_addons\u001b[39;00m\u001b[34;01m.\u001b[39;00m\u001b[34;01mactivations\u001b[39;00m\u001b[34;01m.\u001b[39;00m\u001b[34;01mlisht\u001b[39;00m\u001b[38;5;250m \u001b[39m\u001b[38;5;28;01mimport\u001b[39;00m lisht\n",
      "\u001b[36mFile \u001b[39m\u001b[32mc:\\Users\\chrys\\doug\\mod_surro_daug\\mod_surro_daug_venv\\Lib\\site-packages\\tensorflow_addons\\activations\\gelu.py:19\u001b[39m\n\u001b[32m     16\u001b[39m \u001b[38;5;28;01mimport\u001b[39;00m\u001b[38;5;250m \u001b[39m\u001b[34;01mtensorflow\u001b[39;00m\u001b[38;5;250m \u001b[39m\u001b[38;5;28;01mas\u001b[39;00m\u001b[38;5;250m \u001b[39m\u001b[34;01mtf\u001b[39;00m\n\u001b[32m     17\u001b[39m \u001b[38;5;28;01mimport\u001b[39;00m\u001b[38;5;250m \u001b[39m\u001b[34;01mwarnings\u001b[39;00m\n\u001b[32m---> \u001b[39m\u001b[32m19\u001b[39m \u001b[38;5;28;01mfrom\u001b[39;00m\u001b[38;5;250m \u001b[39m\u001b[34;01mtensorflow_addons\u001b[39;00m\u001b[34;01m.\u001b[39;00m\u001b[34;01mutils\u001b[39;00m\u001b[34;01m.\u001b[39;00m\u001b[34;01mtypes\u001b[39;00m\u001b[38;5;250m \u001b[39m\u001b[38;5;28;01mimport\u001b[39;00m TensorLike\n\u001b[32m     22\u001b[39m \u001b[38;5;129m@tf\u001b[39m.keras.utils.register_keras_serializable(package=\u001b[33m\"\u001b[39m\u001b[33mAddons\u001b[39m\u001b[33m\"\u001b[39m)\n\u001b[32m     23\u001b[39m \u001b[38;5;28;01mdef\u001b[39;00m\u001b[38;5;250m \u001b[39m\u001b[34mgelu\u001b[39m(x: TensorLike, approximate: \u001b[38;5;28mbool\u001b[39m = \u001b[38;5;28;01mTrue\u001b[39;00m) -> tf.Tensor:\n\u001b[32m     24\u001b[39m \u001b[38;5;250m    \u001b[39m\u001b[33mr\u001b[39m\u001b[33;03m\"\"\"Gaussian Error Linear Unit.\u001b[39;00m\n\u001b[32m     25\u001b[39m \n\u001b[32m     26\u001b[39m \u001b[33;03m    Computes gaussian error linear:\u001b[39;00m\n\u001b[32m   (...)\u001b[39m\u001b[32m     65\u001b[39m \u001b[33;03m        A `Tensor`. Has the same type as `x`.\u001b[39;00m\n\u001b[32m     66\u001b[39m \u001b[33;03m    \"\"\"\u001b[39;00m\n",
      "\u001b[36mFile \u001b[39m\u001b[32mc:\\Users\\chrys\\doug\\mod_surro_daug\\mod_surro_daug_venv\\Lib\\site-packages\\tensorflow_addons\\utils\\types.py:29\u001b[39m\n\u001b[32m     25\u001b[39m \u001b[38;5;66;03m# TODO: Remove once https://github.com/tensorflow/tensorflow/issues/44613 is resolved\u001b[39;00m\n\u001b[32m     26\u001b[39m \u001b[38;5;28;01mif\u001b[39;00m Version(tf.__version__).release >= Version(\u001b[33m\"\u001b[39m\u001b[33m2.13\u001b[39m\u001b[33m\"\u001b[39m).release:\n\u001b[32m     27\u001b[39m     \u001b[38;5;66;03m# New versions of Keras require importing from `keras.src` when\u001b[39;00m\n\u001b[32m     28\u001b[39m     \u001b[38;5;66;03m# importing internal symbols.\u001b[39;00m\n\u001b[32m---> \u001b[39m\u001b[32m29\u001b[39m     \u001b[38;5;28;01mfrom\u001b[39;00m\u001b[38;5;250m \u001b[39m\u001b[34;01mkeras\u001b[39;00m\u001b[34;01m.\u001b[39;00m\u001b[34;01msrc\u001b[39;00m\u001b[34;01m.\u001b[39;00m\u001b[34;01mengine\u001b[39;00m\u001b[38;5;250m \u001b[39m\u001b[38;5;28;01mimport\u001b[39;00m keras_tensor\n\u001b[32m     30\u001b[39m \u001b[38;5;28;01melif\u001b[39;00m Version(tf.__version__).release >= Version(\u001b[33m\"\u001b[39m\u001b[33m2.5\u001b[39m\u001b[33m\"\u001b[39m).release:\n\u001b[32m     31\u001b[39m     \u001b[38;5;28;01mfrom\u001b[39;00m\u001b[38;5;250m \u001b[39m\u001b[34;01mkeras\u001b[39;00m\u001b[34;01m.\u001b[39;00m\u001b[34;01mengine\u001b[39;00m\u001b[38;5;250m \u001b[39m\u001b[38;5;28;01mimport\u001b[39;00m keras_tensor\n",
      "\u001b[31mModuleNotFoundError\u001b[39m: No module named 'keras.src.engine'"
     ]
    }
   ],
   "source": [
    "from ydata_synthetic.synthesizers.timeseries import TimeGAN\n",
    "from ydata_synthetic.synthesizers import ModelParameters, TrainParameters\n",
    "\n",
    "model_params = ModelParameters(batch_size=128, lr=5e-4, noise_dim=32, layers_dim=128)\n",
    "train_params = TrainParameters(epochs=100)\n",
    "\n",
    "synthesizer = TimeGAN(model_parameters=model_params, hidden_dim=24, seq_len=100, n_seq=1)\n",
    "synthesizer.fit(real_series, train_params)\n",
    "synthetic_data = synthesizer.sample(1000)\n"
   ]
  }
 ],
 "metadata": {
  "colab": {
   "authorship_tag": "ABX9TyMSJTBt3o6ICyzFdVevyqZU",
   "mount_file_id": "1T3JdfjsPV82nDZuVR8E8oE_o9namJGq4",
   "provenance": []
  },
  "kernelspec": {
   "display_name": "mod_surro_daug_venv (3.11.9)",
   "language": "python",
   "name": "python3"
  },
  "language_info": {
   "codemirror_mode": {
    "name": "ipython",
    "version": 3
   },
   "file_extension": ".py",
   "mimetype": "text/x-python",
   "name": "python",
   "nbconvert_exporter": "python",
   "pygments_lexer": "ipython3",
   "version": "3.11.9"
  }
 },
 "nbformat": 4,
 "nbformat_minor": 1
}
